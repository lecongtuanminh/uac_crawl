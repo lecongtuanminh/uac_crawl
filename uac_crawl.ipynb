{
 "cells": [
  {
   "cell_type": "code",
   "execution_count": 21,
   "id": "49f33c20",
   "metadata": {},
   "outputs": [
    {
     "name": "stdout",
     "output_type": "stream",
     "text": [
      "input your course: bachelor of data science\n"
     ]
    }
   ],
   "source": [
    "from selenium import webdriver\n",
    "from selenium.webdriver.common.by import By\n",
    "from selenium.webdriver.common.keys import Keys\n",
    "import time\n",
    "from selenium.common.exceptions import NoSuchElementException\n",
    "driver = webdriver.Chrome()\n",
    "driver.get(\"https://www.uac.edu.au/course-search/undergraduate/find-a-course.html\")\n",
    "\n",
    "course_input = input('input your course: ')\n",
    "search = driver.find_element(by = By.XPATH,  value ='//*[@id=\"searchAnything\"]')\n",
    "search.send_keys(course_input, Keys.RETURN)\n",
    "\n",
    "\n",
    "\n",
    "    \n",
    "    \n",
    "    \n",
    "    \n",
    "    "
   ]
  },
  {
   "cell_type": "code",
   "execution_count": 22,
   "id": "76d5e221",
   "metadata": {},
   "outputs": [],
   "source": [
    "driver.find_element(by = By.XPATH, value = '//*[@id=\"filterSectionInst\"]/button').click()"
   ]
  },
  {
   "cell_type": "code",
   "execution_count": 27,
   "id": "cf36aeb4",
   "metadata": {},
   "outputs": [],
   "source": [
    "driver.find_element(by = By.XPATH, value = '//*[@id=\"filterSectionInst\"]/div/div[12]/label/input').click()\n",
    "time.sleep(2)\n",
    "driver.find_element(by = By.XPATH, value = '//*[@id=\"filterSectionInst\"]/div/div[23]/label/input').click()\n",
    "time.sleep(2)\n",
    "driver.find_element(by = By.XPATH, value = '//*[@id=\"filterSectionInst\"]/div/div[24]/label/input').click()\n",
    "time.sleep(2)\n",
    "driver.find_element(by = By.XPATH, value = '//*[@id=\"filterSectionInst\"]/div/div[26]/label/input').click()\n",
    "time.sleep(2)\n",
    "driver.find_element(by = By.XPATH, value = '//*[@id=\"filterSectionInst\"]/div/div[27]/label/input').click()\n",
    "time.sleep(2)\n",
    "try: \n",
    "    driver.find_element(by = By.XPATH, \n",
    "                        value = '//*[@id=\"course-search-container\"]/div[2]/div[2]/div[2]/div[17]/div/span/a').click()\n",
    "except NoSuchElementException:\n",
    "    pass"
   ]
  },
  {
   "cell_type": "code",
   "execution_count": null,
   "id": "887813c9",
   "metadata": {},
   "outputs": [],
   "source": []
  }
 ],
 "metadata": {
  "kernelspec": {
   "display_name": "Python 3 (ipykernel)",
   "language": "python",
   "name": "python3"
  },
  "language_info": {
   "codemirror_mode": {
    "name": "ipython",
    "version": 3
   },
   "file_extension": ".py",
   "mimetype": "text/x-python",
   "name": "python",
   "nbconvert_exporter": "python",
   "pygments_lexer": "ipython3",
   "version": "3.9.13"
  }
 },
 "nbformat": 4,
 "nbformat_minor": 5
}
